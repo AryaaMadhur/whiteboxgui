{
 "cells": [
  {
   "cell_type": "code",
   "execution_count": 1,
   "metadata": {},
   "outputs": [],
   "source": [
    "import geemap"
   ]
  },
  {
   "cell_type": "code",
   "execution_count": 2,
   "metadata": {},
   "outputs": [],
   "source": [
    "in_dir = 'Toolbox'"
   ]
  },
  {
   "cell_type": "code",
   "execution_count": 3,
   "metadata": {},
   "outputs": [
    {
     "data": {
      "application/vnd.jupyter.widget-view+json": {
       "model_id": "b243c6f7124640fe8ed6dbd31c86794e",
       "version_major": 2,
       "version_minor": 0
      },
      "text/plain": [
       "HBox(children=(VBox(children=(Text(value='', layout=Layout(width='310px'), placeholder='Search files/folders..…"
      ]
     },
     "metadata": {},
     "output_type": "display_data"
    }
   ],
   "source": [
    "geemap.file_browser(in_dir=in_dir, node_icon=\"wrench\")"
   ]
  },
  {
   "cell_type": "code",
   "execution_count": 4,
   "metadata": {},
   "outputs": [],
   "source": [
    "import ipywidgets as widgets"
   ]
  },
  {
   "cell_type": "code",
   "execution_count": 5,
   "metadata": {},
   "outputs": [],
   "source": [
    "cur_tool = \"DistanceToOutlet\""
   ]
  },
  {
   "cell_type": "code",
   "execution_count": 6,
   "metadata": {},
   "outputs": [],
   "source": [
    "def spacer(width=\"5px\"):\n",
    "    return widgets.Label(layout=widgets.Layout(width=width))"
   ]
  },
  {
   "cell_type": "code",
   "execution_count": 7,
   "metadata": {},
   "outputs": [
    {
     "data": {
      "application/vnd.jupyter.widget-view+json": {
       "model_id": "856b6884961d40c1bb20c3fefbf44ea5",
       "version_major": 2,
       "version_minor": 0
      },
      "text/plain": [
       "Label(value='Current Tool: DistanceToOutlet')"
      ]
     },
     "metadata": {},
     "output_type": "display_data"
    }
   ],
   "source": [
    "name_label = widgets.Label(value=f\"Current Tool: {cur_tool}\")\n",
    "name_label"
   ]
  },
  {
   "cell_type": "code",
   "execution_count": 8,
   "metadata": {},
   "outputs": [
    {
     "data": {
      "application/vnd.jupyter.widget-view+json": {
       "model_id": "c5f7991dc1df479faabb325266a04c91",
       "version_major": 2,
       "version_minor": 0
      },
      "text/plain": [
       "Button(description='View Code', layout=Layout(width='120px'), style=ButtonStyle())"
      ]
     },
     "metadata": {},
     "output_type": "display_data"
    }
   ],
   "source": [
    "view_code_btn = widgets.Button(description=\"View Code\", layout=widgets.Layout(width=\"120px\"))\n",
    "view_code_btn"
   ]
  },
  {
   "cell_type": "code",
   "execution_count": 9,
   "metadata": {},
   "outputs": [
    {
     "data": {
      "application/vnd.jupyter.widget-view+json": {
       "model_id": "13d6a8dbd5594676889e4cbefea63151",
       "version_major": 2,
       "version_minor": 0
      },
      "text/plain": [
       "HBox(children=(Label(value='Current Tool: DistanceToOutlet'), Label(value='', layout=Layout(width='150px')), B…"
      ]
     },
     "metadata": {},
     "output_type": "display_data"
    }
   ],
   "source": [
    "widgets.HBox([name_label, spacer(\"150px\"), view_code_btn])"
   ]
  },
  {
   "cell_type": "code",
   "execution_count": 10,
   "metadata": {},
   "outputs": [],
   "source": [
    "textbox_width = \"350px\""
   ]
  },
  {
   "cell_type": "code",
   "execution_count": 11,
   "metadata": {},
   "outputs": [
    {
     "data": {
      "application/vnd.jupyter.widget-view+json": {
       "model_id": "f07a99ab902640969e0d4d9fd2b5104b",
       "version_major": 2,
       "version_minor": 0
      },
      "text/plain": [
       "VBox(children=(Label(value='Input D8 Pointer File*'), HBox(children=(Text(value='', layout=Layout(width='350px…"
      ]
     },
     "metadata": {},
     "output_type": "display_data"
    }
   ],
   "source": [
    "input1_label = widgets.Label(value=\"Input D8 Pointer File*\")\n",
    "input1_text = widgets.Text(layout=widgets.Layout(width=textbox_width))\n",
    "input1_btn = widgets.Button(icon=\"folder-open\", layout=widgets.Layout(width=\"34px\"))\n",
    "widgets.VBox([input1_label, widgets.HBox([input1_text, input1_btn])])"
   ]
  },
  {
   "cell_type": "code",
   "execution_count": 12,
   "metadata": {},
   "outputs": [
    {
     "data": {
      "application/vnd.jupyter.widget-view+json": {
       "model_id": "a074cd309f174f288d808c6b4b779f4f",
       "version_major": 2,
       "version_minor": 0
      },
      "text/plain": [
       "VBox(children=(Label(value='Input Stream File*'), HBox(children=(Text(value='', layout=Layout(width='350px')),…"
      ]
     },
     "metadata": {},
     "output_type": "display_data"
    }
   ],
   "source": [
    "input2_label = widgets.Label(value=\"Input Stream File*\")\n",
    "input2_text = widgets.Text(layout=widgets.Layout(width=textbox_width))\n",
    "input2_btn = widgets.Button(icon=\"folder-open\", layout=widgets.Layout(width=\"34px\"))\n",
    "widgets.VBox([input2_label, widgets.HBox([input2_text, input2_btn])])"
   ]
  },
  {
   "cell_type": "code",
   "execution_count": 13,
   "metadata": {},
   "outputs": [
    {
     "data": {
      "application/vnd.jupyter.widget-view+json": {
       "model_id": "3ff49e09f3cb426db2a8dc96a36e9ed9",
       "version_major": 2,
       "version_minor": 0
      },
      "text/plain": [
       "VBox(children=(Label(value='Output File*'), HBox(children=(Text(value='', layout=Layout(width='350px')), Butto…"
      ]
     },
     "metadata": {},
     "output_type": "display_data"
    }
   ],
   "source": [
    "input3_label = widgets.Label(value=\"Output File*\")\n",
    "input3_text = widgets.Text(layout=widgets.Layout(width=textbox_width))\n",
    "input3_btn = widgets.Button(icon=\"folder-open\", layout=widgets.Layout(width=\"34px\"))\n",
    "# widgets.HBox([input3_label, spacer(\"20px\"), input3_text, input3_btn])\n",
    "widgets.VBox([input3_label, widgets.HBox([input3_text, input3_btn])])"
   ]
  },
  {
   "cell_type": "code",
   "execution_count": 14,
   "metadata": {},
   "outputs": [
    {
     "data": {
      "application/vnd.jupyter.widget-view+json": {
       "model_id": "602c904b638b4e55bf69061f08c7e6b4",
       "version_major": 2,
       "version_minor": 0
      },
      "text/plain": [
       "VBox(children=(Checkbox(value=False, description='Does the pointer file use the ESRI pointer scheme?', layout=…"
      ]
     },
     "metadata": {},
     "output_type": "display_data"
    }
   ],
   "source": [
    "chk1 = widgets.Checkbox(description=\"Does the pointer file use the ESRI pointer scheme?\", style={\"description_width\": \"initial\"}, layout=widgets.Layout(width=\"380px\"))\n",
    "chk2 = widgets.Checkbox(description=\"Should a background value of zero be used?\", style={\"description_width\": \"initial\"}, layout=widgets.Layout(width=\"380px\"))\n",
    "widgets.VBox([chk1, chk2])"
   ]
  },
  {
   "cell_type": "code",
   "execution_count": 15,
   "metadata": {},
   "outputs": [
    {
     "data": {
      "application/vnd.jupyter.widget-view+json": {
       "model_id": "bdc02196533a406b8c0279cceaeb9754",
       "version_major": 2,
       "version_minor": 0
      },
      "text/plain": [
       "HBox(children=(Button(description='Run', layout=Layout(width='100px'), style=ButtonStyle()), Button(descriptio…"
      ]
     },
     "metadata": {},
     "output_type": "display_data"
    }
   ],
   "source": [
    "run_btn = widgets.Button(description=\"Run\", layout=widgets.Layout(width=\"100px\"))\n",
    "cancel_btn = widgets.Button(description=\"Cancel\", layout=widgets.Layout(width=\"100px\"))\n",
    "help_btn = widgets.Button(description=\"Help\", layout=widgets.Layout(width=\"100px\"))\n",
    "widgets.HBox([run_btn, cancel_btn, help_btn])"
   ]
  },
  {
   "cell_type": "code",
   "execution_count": 16,
   "metadata": {},
   "outputs": [
    {
     "data": {
      "application/vnd.jupyter.widget-view+json": {
       "model_id": "d96ea16434e34e6b8845cb01aa8e07a1",
       "version_major": 2,
       "version_minor": 0
      },
      "text/plain": [
       "VBox(children=(HBox(children=(Label(value='Current Tool: DistanceToOutlet'), Label(value='', layout=Layout(wid…"
      ]
     },
     "metadata": {},
     "output_type": "display_data"
    }
   ],
   "source": [
    "widgets.VBox([\n",
    "    widgets.HBox([name_label, spacer(\"77px\"), view_code_btn]),\n",
    "    widgets.VBox([input1_label, widgets.HBox([input1_text, input1_btn])]),\n",
    "    widgets.VBox([input2_label, widgets.HBox([input2_text, input2_btn])]),\n",
    "    widgets.VBox([input3_label, widgets.HBox([input3_text, input3_btn])]),\n",
    "    widgets.VBox([chk1, chk2]),\n",
    "    widgets.HBox([run_btn, cancel_btn, help_btn], layout=widgets.Layout(padding=\"0px 0px 0px 0px\"))\n",
    "], layout=widgets.Layout(border=\"1px solid black\", width=\"405px\", padding=\"5px\"))"
   ]
  },
  {
   "cell_type": "code",
   "execution_count": null,
   "metadata": {},
   "outputs": [],
   "source": []
  }
 ],
 "metadata": {
  "hide_input": false,
  "kernelspec": {
   "display_name": "Python 3",
   "language": "python",
   "name": "python3"
  },
  "language_info": {
   "codemirror_mode": {
    "name": "ipython",
    "version": 3
   },
   "file_extension": ".py",
   "mimetype": "text/x-python",
   "name": "python",
   "nbconvert_exporter": "python",
   "pygments_lexer": "ipython3",
   "version": "3.8.5"
  },
  "toc": {
   "base_numbering": 1,
   "nav_menu": {},
   "number_sections": true,
   "sideBar": true,
   "skip_h1_title": false,
   "title_cell": "Table of Contents",
   "title_sidebar": "Contents",
   "toc_cell": false,
   "toc_position": {},
   "toc_section_display": true,
   "toc_window_display": false
  }
 },
 "nbformat": 4,
 "nbformat_minor": 4
}
